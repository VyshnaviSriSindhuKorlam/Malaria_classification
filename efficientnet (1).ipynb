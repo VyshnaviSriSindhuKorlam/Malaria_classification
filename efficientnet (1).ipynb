{
  "nbformat": 4,
  "nbformat_minor": 0,
  "metadata": {
    "colab": {
      "provenance": []
    },
    "kernelspec": {
      "name": "python3",
      "display_name": "Python 3"
    },
    "language_info": {
      "name": "python"
    }
  },
  "cells": [
    {
      "cell_type": "code",
      "execution_count": null,
      "metadata": {
        "colab": {
          "base_uri": "https://localhost:8080/"
        },
        "id": "YYLKrGLSkHO9",
        "outputId": "24044fdc-1df5-4d04-a61f-030332934312"
      },
      "outputs": [
        {
          "output_type": "stream",
          "name": "stdout",
          "text": [
            "Downloading data from https://storage.googleapis.com/keras-applications/efficientnetb0_notop.h5\n",
            "\u001b[1m16705208/16705208\u001b[0m \u001b[32m━━━━━━━━━━━━━━━━━━━━\u001b[0m\u001b[37m\u001b[0m \u001b[1m0s\u001b[0m 0us/step\n",
            "Found 3033 images belonging to 2 classes.\n",
            "Found 757 images belonging to 2 classes.\n",
            "Epoch 1/10\n"
          ]
        },
        {
          "output_type": "stream",
          "name": "stderr",
          "text": [
            "/usr/local/lib/python3.10/dist-packages/keras/src/trainers/data_adapters/py_dataset_adapter.py:121: UserWarning: Your `PyDataset` class should call `super().__init__(**kwargs)` in its constructor. `**kwargs` can include `workers`, `use_multiprocessing`, `max_queue_size`. Do not pass these arguments to `fit()`, as they will be ignored.\n",
            "  self._warn_if_super_not_called()\n"
          ]
        },
        {
          "output_type": "stream",
          "name": "stdout",
          "text": [
            "\u001b[1m95/95\u001b[0m \u001b[32m━━━━━━━━━━━━━━━━━━━━\u001b[0m\u001b[37m\u001b[0m \u001b[1m1128s\u001b[0m 11s/step - accuracy: 0.7195 - loss: 0.6070 - val_accuracy: 0.7226 - val_loss: 0.5901\n",
            "Epoch 2/10\n",
            "\u001b[1m95/95\u001b[0m \u001b[32m━━━━━━━━━━━━━━━━━━━━\u001b[0m\u001b[37m\u001b[0m \u001b[1m441s\u001b[0m 4s/step - accuracy: 0.7329 - loss: 0.5828 - val_accuracy: 0.7226 - val_loss: 0.6085\n",
            "Epoch 3/10\n",
            "\u001b[1m95/95\u001b[0m \u001b[32m━━━━━━━━━━━━━━━━━━━━\u001b[0m\u001b[37m\u001b[0m \u001b[1m495s\u001b[0m 5s/step - accuracy: 0.7271 - loss: 0.5994 - val_accuracy: 0.7226 - val_loss: 0.5930\n",
            "Epoch 4/10\n",
            "\u001b[1m95/95\u001b[0m \u001b[32m━━━━━━━━━━━━━━━━━━━━\u001b[0m\u001b[37m\u001b[0m \u001b[1m439s\u001b[0m 5s/step - accuracy: 0.7294 - loss: 0.5874 - val_accuracy: 0.7226 - val_loss: 0.5912\n",
            "Epoch 5/10\n",
            "\u001b[1m95/95\u001b[0m \u001b[32m━━━━━━━━━━━━━━━━━━━━\u001b[0m\u001b[37m\u001b[0m \u001b[1m422s\u001b[0m 4s/step - accuracy: 0.7243 - loss: 0.5905 - val_accuracy: 0.7226 - val_loss: 0.5900\n",
            "Epoch 6/10\n",
            "\u001b[1m95/95\u001b[0m \u001b[32m━━━━━━━━━━━━━━━━━━━━\u001b[0m\u001b[37m\u001b[0m \u001b[1m433s\u001b[0m 4s/step - accuracy: 0.7233 - loss: 0.5913 - val_accuracy: 0.7226 - val_loss: 0.5923\n",
            "Epoch 7/10\n",
            "\u001b[1m95/95\u001b[0m \u001b[32m━━━━━━━━━━━━━━━━━━━━\u001b[0m\u001b[37m\u001b[0m \u001b[1m439s\u001b[0m 4s/step - accuracy: 0.7257 - loss: 0.5897 - val_accuracy: 0.7226 - val_loss: 0.5902\n",
            "Epoch 8/10\n",
            "\u001b[1m95/95\u001b[0m \u001b[32m━━━━━━━━━━━━━━━━━━━━\u001b[0m\u001b[37m\u001b[0m \u001b[1m430s\u001b[0m 4s/step - accuracy: 0.7185 - loss: 0.5959 - val_accuracy: 0.7226 - val_loss: 0.5902\n",
            "Epoch 9/10\n",
            "\u001b[1m95/95\u001b[0m \u001b[32m━━━━━━━━━━━━━━━━━━━━\u001b[0m\u001b[37m\u001b[0m \u001b[1m480s\u001b[0m 5s/step - accuracy: 0.7392 - loss: 0.5739 - val_accuracy: 0.7226 - val_loss: 0.6016\n",
            "Epoch 10/10\n",
            "\u001b[1m95/95\u001b[0m \u001b[32m━━━━━━━━━━━━━━━━━━━━\u001b[0m\u001b[37m\u001b[0m \u001b[1m436s\u001b[0m 4s/step - accuracy: 0.7236 - loss: 0.5944 - val_accuracy: 0.7226 - val_loss: 0.5927\n",
            "Epoch 1/10\n",
            "\u001b[1m95/95\u001b[0m \u001b[32m━━━━━━━━━━━━━━━━━━━━\u001b[0m\u001b[37m\u001b[0m \u001b[1m537s\u001b[0m 5s/step - accuracy: 0.5959 - loss: 0.6830 - val_accuracy: 0.7226 - val_loss: 0.5909\n",
            "Epoch 2/10\n",
            "\u001b[1m95/95\u001b[0m \u001b[32m━━━━━━━━━━━━━━━━━━━━\u001b[0m\u001b[37m\u001b[0m \u001b[1m551s\u001b[0m 5s/step - accuracy: 0.7095 - loss: 0.6020 - val_accuracy: 0.7226 - val_loss: 0.5936\n",
            "Epoch 3/10\n",
            "\u001b[1m95/95\u001b[0m \u001b[32m━━━━━━━━━━━━━━━━━━━━\u001b[0m\u001b[37m\u001b[0m \u001b[1m563s\u001b[0m 6s/step - accuracy: 0.7332 - loss: 0.5838 - val_accuracy: 0.7226 - val_loss: 0.5998\n",
            "Epoch 4/10\n",
            "\u001b[1m95/95\u001b[0m \u001b[32m━━━━━━━━━━━━━━━━━━━━\u001b[0m\u001b[37m\u001b[0m \u001b[1m563s\u001b[0m 5s/step - accuracy: 0.7229 - loss: 0.5945 - val_accuracy: 0.7226 - val_loss: 0.5940\n",
            "Epoch 5/10\n",
            "\u001b[1m95/95\u001b[0m \u001b[32m━━━━━━━━━━━━━━━━━━━━\u001b[0m\u001b[37m\u001b[0m \u001b[1m502s\u001b[0m 5s/step - accuracy: 0.7208 - loss: 0.5993 - val_accuracy: 0.7226 - val_loss: 0.5881\n",
            "Epoch 6/10\n",
            "\u001b[1m95/95\u001b[0m \u001b[32m━━━━━━━━━━━━━━━━━━━━\u001b[0m\u001b[37m\u001b[0m \u001b[1m606s\u001b[0m 6s/step - accuracy: 0.7178 - loss: 0.5939 - val_accuracy: 0.7226 - val_loss: 0.5967\n",
            "Epoch 7/10\n",
            "\u001b[1m95/95\u001b[0m \u001b[32m━━━━━━━━━━━━━━━━━━━━\u001b[0m\u001b[37m\u001b[0m \u001b[1m551s\u001b[0m 6s/step - accuracy: 0.7299 - loss: 0.5764 - val_accuracy: 0.7226 - val_loss: 0.5858\n",
            "Epoch 8/10\n",
            "\u001b[1m95/95\u001b[0m \u001b[32m━━━━━━━━━━━━━━━━━━━━\u001b[0m\u001b[37m\u001b[0m \u001b[1m517s\u001b[0m 5s/step - accuracy: 0.7005 - loss: 0.6074 - val_accuracy: 0.7226 - val_loss: 0.5861\n",
            "Epoch 9/10\n",
            "\u001b[1m95/95\u001b[0m \u001b[32m━━━━━━━━━━━━━━━━━━━━\u001b[0m\u001b[37m\u001b[0m \u001b[1m567s\u001b[0m 5s/step - accuracy: 0.7206 - loss: 0.5892 - val_accuracy: 0.7226 - val_loss: 0.5862\n",
            "Epoch 10/10\n",
            "\u001b[1m95/95\u001b[0m \u001b[32m━━━━━━━━━━━━━━━━━━━━\u001b[0m\u001b[37m\u001b[0m \u001b[1m511s\u001b[0m 5s/step - accuracy: 0.7172 - loss: 0.5938 - val_accuracy: 0.7226 - val_loss: 0.5873\n"
          ]
        }
      ],
      "source": [
        "\n",
        "import tensorflow as tf\n",
        "from tensorflow.keras.applications import EfficientNetB0\n",
        "from tensorflow.keras.layers import Dense, GlobalAveragePooling2D\n",
        "from tensorflow.keras.models import Model\n",
        "from tensorflow.keras.preprocessing.image import ImageDataGenerator\n",
        "import os\n",
        "\n",
        "dataset_dir = '/content/drive/MyDrive/Malaria'\n",
        "\n",
        "num_classes = len(os.listdir(dataset_dir))\n",
        "\n",
        "base_model = EfficientNetB0(weights='imagenet', include_top=False, input_shape=(224, 224, 3))\n",
        "\n",
        "x = base_model.output\n",
        "x = GlobalAveragePooling2D()(x)\n",
        "x = Dense(128, activation='relu')(x)\n",
        "predictions = Dense(num_classes, activation='softmax')(x)\n",
        "\n",
        "model = Model(inputs=base_model.input, outputs=predictions)\n",
        "\n",
        "for layer in base_model.layers:\n",
        "    layer.trainable = False\n",
        "\n",
        "\n",
        "model.compile(optimizer='adam', loss='categorical_crossentropy', metrics=['accuracy'])\n",
        "\n",
        "\n",
        "train_datagen = ImageDataGenerator(rescale=1./255, rotation_range=20, zoom_range=0.2,\n",
        "                                   horizontal_flip=True, validation_split=0.2)\n",
        "\n",
        "\n",
        "train_generator = train_datagen.flow_from_directory(\n",
        "    dataset_dir,\n",
        "    target_size=(224, 224),\n",
        "    batch_size=32,\n",
        "    class_mode='categorical',\n",
        "    subset='training'\n",
        ")\n",
        "\n",
        "validation_generator = train_datagen.flow_from_directory(\n",
        "    dataset_dir,\n",
        "    target_size=(224, 224),\n",
        "    batch_size=32,\n",
        "    class_mode='categorical',\n",
        "    subset='validation'\n",
        ")\n",
        "\n",
        "history = model.fit(train_generator, validation_data=validation_generator, epochs=10)\n",
        "\n",
        "for layer in base_model.layers[-50:]:\n",
        "    layer.trainable = True\n",
        "\n",
        "model.compile(optimizer=tf.keras.optimizers.Adam(1e-5), loss='categorical_crossentropy', metrics=['accuracy'])\n",
        "history_finetune = model.fit(train_generator, validation_data=validation_generator, epochs=10)\n"
      ]
    },
    {
      "cell_type": "code",
      "source": [],
      "metadata": {
        "id": "wYsjNwHukjIA"
      },
      "execution_count": null,
      "outputs": []
    }
  ]
}