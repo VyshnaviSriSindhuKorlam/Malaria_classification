{
  "nbformat": 4,
  "nbformat_minor": 0,
  "metadata": {
    "colab": {
      "provenance": [],
      "gpuType": "V28"
    },
    "kernelspec": {
      "name": "python3",
      "display_name": "Python 3"
    },
    "language_info": {
      "name": "python"
    },
    "accelerator": "TPU"
  },
  "cells": [
    {
      "cell_type": "code",
      "execution_count": null,
      "metadata": {
        "id": "xvJg9dZly9oY"
      },
      "outputs": [],
      "source": [
        "import tensorflow as tf\n",
        "from tensorflow.keras.preprocessing.image import ImageDataGenerator, img_to_array, load_img\n",
        "import os\n",
        "import numpy as np\n",
        "\n",
        "# Base input directory where your dataset is stored\n",
        "input_dir = '/content/drive/MyDrive/Malaria2'\n",
        "\n",
        "# Set up augmentation parameters\n",
        "datagen = ImageDataGenerator(\n",
        "    rotation_range=40,\n",
        "    width_shift_range=0.2,\n",
        "    height_shift_range=0.2,\n",
        "    shear_range=0.2,\n",
        "    zoom_range=0.2,\n",
        "    horizontal_flip=True,\n",
        "    fill_mode='nearest'\n",
        ")\n",
        "\n",
        "# Helper function to count images in a directory\n",
        "def count_images(directory):\n",
        "    return len([f for f in os.listdir(directory) if f.endswith(('.jpg', '.png', '.tif'))])\n",
        "\n",
        "# Define paths for each category\n",
        "categories = {\n",
        "    'Uninfected': os.path.join(input_dir, 'Uninfected'),\n",
        "    'Falciparum': os.path.join(input_dir, 'infected/Falciparum'),\n",
        "    'Vivax': os.path.join(input_dir, 'infected/Vivax'),\n",
        "    'Ovale': os.path.join(input_dir, 'infected/Ovale'),\n",
        "    'Malariae': os.path.join(input_dir, 'infected/Malariae')\n",
        "}\n",
        "\n",
        "# Define the target number of images per category to reach 3000 total images or more\n",
        "target_images_per_class = 600  # Adjust this value if you want more than 3000 images in total\n",
        "\n",
        "# Function to augment images to reach the target count for each category\n",
        "def augment_directory(directory, target_count):\n",
        "    current_count = count_images(directory)\n",
        "    files = [f for f in os.listdir(directory) if f.endswith(('.jpg', '.png', '.tif'))]\n",
        "\n",
        "    # Loop through files and apply augmentation until the target count is reached\n",
        "    for filename in files:\n",
        "        if current_count >= target_count:\n",
        "            break\n",
        "\n",
        "        img_path = os.path.join(directory, filename)\n",
        "        img = load_img(img_path)\n",
        "        x = img_to_array(img)\n",
        "        x = np.expand_dims(x, axis=0)\n",
        "\n",
        "        # Generate images in batches to reach the target count\n",
        "        for batch in datagen.flow(x, batch_size=1, save_to_dir=directory,\n",
        "                                  save_prefix='aug', save_format='jpeg'):\n",
        "            current_count += 1\n",
        "            if current_count >= target_count:\n",
        "                break\n",
        "\n",
        "# Apply augmentation to each category to ensure at least 600 images per category\n",
        "for category, path in categories.items():\n",
        "    augment_directory(path, target_images_per_class)\n"
      ]
    },
    {
      "cell_type": "code",
      "source": [
        "import os\n",
        "\n",
        "# Base input directory where your dataset is stored\n",
        "input_dir = '/content/drive/MyDrive/Malaria2'\n",
        "\n",
        "# Function to count images in a directory and its subdirectories\n",
        "def count_images_in_dataset(directory):\n",
        "    total_images = 0\n",
        "    for root, dirs, files in os.walk(directory):\n",
        "        total_images += len([f for f in files if f.endswith(('.jpg', '.jpeg', '.png', '.tif'))])\n",
        "    return total_images\n",
        "\n",
        "# Count total images in the dataset (including augmented images)\n",
        "total_images = count_images_in_dataset(input_dir)\n",
        "print(f\"Total number of images in the dataset (including augmented images): {total_images}\")\n"
      ],
      "metadata": {
        "colab": {
          "base_uri": "https://localhost:8080/"
        },
        "id": "JlKvBuoo4qKl",
        "outputId": "cea446d1-411d-4353-a262-5938bcf1d8ff"
      },
      "execution_count": null,
      "outputs": [
        {
          "output_type": "stream",
          "name": "stdout",
          "text": [
            "Total number of images in the dataset (including augmented images): 2932\n"
          ]
        }
      ]
    },
    {
      "cell_type": "code",
      "source": [],
      "metadata": {
        "id": "rPqfq4pcM2-y"
      },
      "execution_count": null,
      "outputs": []
    },
    {
      "cell_type": "code",
      "source": [],
      "metadata": {
        "id": "04Tna7o1NYfT"
      },
      "execution_count": null,
      "outputs": []
    }
  ]
}